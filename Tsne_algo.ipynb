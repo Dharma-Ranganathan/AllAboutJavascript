{
  "nbformat": 4,
  "nbformat_minor": 0,
  "metadata": {
    "colab": {
      "provenance": [],
      "authorship_tag": "ABX9TyM5nRFMJdx/uRQNbGt3iidw",
      "include_colab_link": true
    },
    "kernelspec": {
      "name": "python3",
      "display_name": "Python 3"
    },
    "language_info": {
      "name": "python"
    }
  },
  "cells": [
    {
      "cell_type": "markdown",
      "metadata": {
        "id": "view-in-github",
        "colab_type": "text"
      },
      "source": [
        "<a href=\"https://colab.research.google.com/github/Dharma-Ranganathan/AllAboutJavascript/blob/main/Tsne_algo.ipynb\" target=\"_parent\"><img src=\"https://colab.research.google.com/assets/colab-badge.svg\" alt=\"Open In Colab\"/></a>"
      ]
    },
    {
      "cell_type": "code",
      "execution_count": null,
      "metadata": {
        "id": "PouFYXcw47dI"
      },
      "outputs": [],
      "source": [
        "# imports\n",
        "from sklearn.datasets import load_digits\n",
        "from sklearn.manifold import TSNE\n",
        "import matplotlib.pyplot as plt\n",
        "\n",
        "digits = load_digits()\n",
        "x = digits.data\n",
        "y = digits.target\n",
        "\n",
        "tsne = TSNE(n_components=2,random_state=42)\n",
        "x_tsne = tsne.fit_transform(x)\n",
        "\n",
        "# visualise\n",
        "plt.scatter(x_tsne[:,0],x_tsne[:,1],c=y,cmap='Set1')\n",
        "plt.colorbar()\n",
        "plt.title(\"tsne\")\n",
        "plt.show()"
      ]
    }
  ]
}